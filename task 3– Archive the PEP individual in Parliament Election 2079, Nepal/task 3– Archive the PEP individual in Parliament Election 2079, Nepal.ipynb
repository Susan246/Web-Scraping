{
 "cells": [
  {
   "cell_type": "markdown",
   "id": "f9ddd784",
   "metadata": {},
   "source": [
    "# Task 3 – Archiving the PEP individual in Parliament Election 2079, Nepal"
   ]
  },
  {
   "cell_type": "markdown",
   "id": "2114b7e6",
   "metadata": {},
   "source": [
    "– Archive the PEP individual in Parliament Election 2079, Nepal\n",
    "Refer the website (https://election.ekantipur.com/?lng=eng) and scrap country(i.e. Nepal),\n",
    "election_name (i.e. Parliament &amp; Provincial Election 2079), province, district, constituency_no,\n",
    "candidate_name, and received_votes using both elections 2079 and 2074"
   ]
  },
  {
   "cell_type": "markdown",
   "id": "404f0f5b",
   "metadata": {},
   "source": [
    "### Data scraping using BeautifulSoup, Selenium and Python "
   ]
  },
  {
   "cell_type": "code",
   "execution_count": 1,
   "id": "8af05ada",
   "metadata": {},
   "outputs": [],
   "source": [
    "# Importing necessary libraries\n",
    "import pandas as pd\n",
    "import time\n",
    "from selenium import webdriver\n",
    "from selenium.webdriver.chrome.service import Service\n",
    "from selenium.webdriver.common.by import By\n",
    "from selenium.webdriver.support.ui import WebDriverWait\n",
    "from selenium.webdriver.support import expected_conditions as EC\n",
    "from selenium.common.exceptions import TimeoutException,NoSuchElementException,StaleElementReferenceException,ElementClickInterceptedException\n",
    "from selenium.webdriver.chrome.options import Options\n",
    "import pandas as pd\n",
    "from bs4 import BeautifulSoup"
   ]
  },
  {
   "cell_type": "markdown",
   "id": "26b5ab18",
   "metadata": {},
   "source": [
    "### Initializing driver and Loading the chrome window"
   ]
  },
  {
   "cell_type": "code",
   "execution_count": 2,
   "id": "2f06b023",
   "metadata": {},
   "outputs": [],
   "source": [
    "# Initialize WebDriver\n",
    "driver = webdriver.Chrome(service=Service(\"D:/pythonprogramme/selenium/chromedriver.exe\"))\n",
    "\n",
    "# Loadding page\n",
    "driver.get('https://election.ekantipur.com/?lng=eng')"
   ]
  },
  {
   "cell_type": "markdown",
   "id": "aca6241a",
   "metadata": {},
   "source": [
    "### Data scraping "
   ]
  },
  {
   "cell_type": "code",
   "execution_count": 3,
   "id": "29aac11b",
   "metadata": {
    "scrolled": false
   },
   "outputs": [
    {
     "name": "stdout",
     "output_type": "stream",
     "text": [
      "\n",
      "\n",
      "province: Pradesh 1\n",
      "\n",
      "\n",
      "distirct: Taplejung\n",
      "distirct: Panchthar\n",
      "distirct: Illam\n",
      "distirct: Jhapa\n",
      "distirct: Morang\n",
      "distirct: Sunsari\n",
      "distirct: Dhankuta\n",
      "distirct: Sankhuwasabha\n",
      "distirct: Bhojpur\n",
      "distirct: Terhathum\n",
      "distirct: Okhaldhunga\n",
      "distirct: Khotang\n",
      "distirct: Solukhumbu\n",
      "distirct: Udayapur\n",
      "\n",
      "\n",
      "province: Madhesh Pradesh\n",
      "\n",
      "\n",
      "distirct: Saptari\n",
      "distirct: Siraha\n",
      "distirct: Dhanusa\n",
      "distirct: Mahottari\n",
      "distirct: Sarlahi\n",
      "distirct: Rauthat\n",
      "distirct: Bara\n",
      "distirct: Parsa\n",
      "\n",
      "\n",
      "province: Bagmati Pradesh\n",
      "\n",
      "\n",
      "distirct: Sindhuli\n",
      "distirct: Ramechhap\n",
      "distirct: Dolkha\n",
      "distirct: Sindhupalchowk\n",
      "distirct: Kavrepalanchowk\n",
      "distirct: Lalitpur\n",
      "distirct: Bhaktapur\n",
      "distirct: Kathmandu\n",
      "distirct: Nuwakot\n",
      "distirct: Rasuwa\n",
      "distirct: Dhading\n",
      "distirct: Makwanpur\n",
      "distirct: Chitwan\n",
      "\n",
      "\n",
      "province: Gandaki Pradesh\n",
      "\n",
      "\n",
      "distirct: Gorkha\n",
      "distirct: Lamjung\n",
      "distirct: Tanahun\n",
      "distirct: Syangja\n",
      "distirct: Kaski\n",
      "distirct: Manang\n",
      "distirct: Mustang\n",
      "distirct: Parbat\n",
      "distirct: Myagdi\n",
      "distirct: Baglung\n",
      "distirct: Nawalparasi East\n",
      "\n",
      "\n",
      "province: Lumbini Pradesh\n",
      "\n",
      "\n",
      "distirct: Gulmi\n",
      "distirct: Palpa\n",
      "distirct: Rupandehi\n",
      "distirct: Arghakhanchi\n",
      "distirct: Kapilvastu\n",
      "distirct: Pyuthan\n",
      "distirct: Rolpa\n",
      "distirct: Dang\n",
      "distirct: Bardiya\n",
      "distirct: Banke\n",
      "distirct: Nawalparasi West\n",
      "distirct: Rukum East\n",
      "\n",
      "\n",
      "province: Karnali Pradesh\n",
      "\n",
      "\n",
      "distirct: Rukum West\n",
      "distirct: Salyan\n",
      "distirct: Surkhet\n",
      "distirct: Dailekh\n",
      "distirct: Jajarkot\n",
      "distirct: Dolpa\n",
      "distirct: Humla\n",
      "distirct: Kalikot\n",
      "distirct: Mugu\n",
      "distirct: Jumla\n",
      "\n",
      "\n",
      "province: Sudurpaschim Pradesh\n",
      "\n",
      "\n",
      "distirct: Bajhang\n",
      "distirct: Achham\n",
      "distirct: Doti\n",
      "distirct: Kailali\n",
      "distirct: Kanchanpur\n",
      "distirct: Dadeldhura\n",
      "distirct: Baitadi\n",
      "distirct: Darchula\n",
      "This is from skipped pages at last\n",
      "['Nepal', 'Parliament & Provincial Election 2079', 'Federal Parliament 2079', 'Sudurpaschim Pradesh', 'Bajura', 'Bajura - Constituency 1', 'Bhadri Prasad Pandey', 'Nepali Congress', '31,786']\n",
      "['Nepal', 'Parliament & Provincial Election 2074', 'Federal Parliament 2074', 'Sudurpaschim Pradesh', 'Bajura', 'Constituency : 1', 'Lal Bahadur Thapa', 'CPN-UML', '28,065']\n",
      "['Nepal', 'Parliament & Provincial Election 2079', 'Federal Parliament 2079', 'Sudurpaschim Pradesh', 'Bajura', 'Bajura - Constituency 1', 'Bhadri Prasad Pandey', 'Nepali Congress', '31,786']\n"
     ]
    }
   ],
   "source": [
    "WebDriverWait(driver,120).until(\n",
    "    EC.presence_of_element_located((By.XPATH,'//*[@id=\"election-type\"]/option[1]'))\n",
    ")\n",
    "\n",
    "federal=driver.find_element(By.XPATH,'//*[@id=\"election-type\"]/option[1]')\n",
    "\n",
    "\n",
    "\n",
    "# function for skipped pages\n",
    "def retry_skipped_pages(skipped_pages, max_retries=5):\n",
    "    for page in skipped_pages:\n",
    "        attempt = 0\n",
    "        success = False\n",
    "        while attempt < max_retries and not success:\n",
    "            try:\n",
    "                driver.get(page)\n",
    "                WebDriverWait(driver, 10).until(\n",
    "                    EC.presence_of_element_located((By.XPATH,'//*[@id=\"election-type\"]/option[1]'))\n",
    "                )\n",
    "                \n",
    "                # data scraping\n",
    "                page_source=driver.page_source\n",
    "                soup=BeautifulSoup(page_source)\n",
    "\n",
    "                country_='Nepal'\n",
    "                province_=soup.find_all('li',class_='breadcrumb-item')[1].text.strip()\n",
    "                district_=soup.find_all('li',class_='breadcrumb-item')[2].text.strip()\n",
    "\n",
    "                print(\"This is from skipped pages at last\")\n",
    "                \n",
    "                # scraping data of election 2079\n",
    "                data9=soup.find('div',class_='election-2079')\n",
    "                for data in data9.find_all('div',class_='col-md-6 col-xl-4'):\n",
    "                    constituency_=data.find('h3',class_='card-title m-0').text.strip()\n",
    "                    name_=data.find('div',class_='nominee-name').text.strip()\n",
    "                    party_=data.find('div',class_='candidate-party-name').text.strip()\n",
    "                    votes_=data.find('div',class_='vote-count font-md p-0').text.strip()\n",
    "\n",
    "                    candidates.append([country_,\"Parliament & Provincial Election 2079\",\"Federal Parliament 2079\",province_,district_,constituency_,name_,party_,votes_])\n",
    "                    print([country_,\"Parliament & Provincial Election 2079\",\"Federal Parliament 2079\",province_,district_,constituency_,name_,party_,votes_])\n",
    "\n",
    "\n",
    "                # scraping data of election 2074\n",
    "                data4=soup.find('div',class_='gy-4 election-2074')\n",
    "                for information in data4.find_all('div',class_='col-md-6 col-xl-4'):\n",
    "                    _constituency=information.find('h3',class_='card-title m-0').text.strip()\n",
    "                    _name=information.find('div',class_='nominee-name').text.strip()\n",
    "                    _party=information.find('div',class_='candidate-party-name').text.strip()\n",
    "                    for_votes=information.find('li',class_='election-list__item')\n",
    "                    _votes=for_votes.find_all('div',class_='col-auto')[1].text.strip()\n",
    "\n",
    "                    candidates.append([country_,\"Parliament & Provincial Election 2074\",\"Federal Parliament 2074\",province_,district_,_constituency,_name,_party,_votes])\n",
    "                    print([country_,\"Parliament & Provincial Election 2074\",\"Federal Parliament 2074\",province_,district_,_constituency,_name,_party,_votes])\n",
    "\n",
    "\n",
    "                # Re-election data\n",
    "                re_election=soup.find_all('div',class_='col-md-6 col-xl-4')[0]\n",
    "                constituency1=re_election.find('h3',class_='card-title m-0').text.strip()\n",
    "                name1=re_election.find('div',class_='nominee-name').text.strip()\n",
    "                party1=re_election.find('div',class_='candidate-party-name').text.strip()\n",
    "                votes1=re_election.find('div',class_='vote-count font-md p-0').text.strip()\n",
    "\n",
    "                candidates.append([country_,\"Parliament & Provincial Election 2079\",\"Federal Parliament 2079\",province_,district_,constituency1,name1,party1,votes1])\n",
    "                print([country_,\"Parliament & Provincial Election 2079\",\"Federal Parliament 2079\",province_,district_,constituency1,name1,party1,votes1])\n",
    "\n",
    "                success = True\n",
    "\n",
    "            except (TimeoutException, StaleElementReferenceException, NoSuchElementException):\n",
    "                attempt += 1\n",
    "                print(f\"Retrying {page} ({attempt}/{max_retries})\")\n",
    "\n",
    "            if attempt >= max_retries:\n",
    "                print(f\"Failed to retrieve {page} after {max_retries} attempts.\")\n",
    "\n",
    "'''\n",
    "We run province and district loop from indexing 1 cause first options are default string province and district except in case of sudhurpaschim pradesh,\n",
    "In pradesh 7 there is not default option 'district' and first option is Bajura district and it skips due to the loop starting index is 1,\n",
    "To counter and get the data of bajura we add the url of it into skipped_pages that gonna scraped at last\n",
    "'''\n",
    "candidates=[]                \n",
    "skipped_pages=[\"https://election.ekantipur.com/pradesh-7/district-bajura?lng=eng\"]\n",
    "pro_index = 0\n",
    "dist_index = 0\n",
    "\n",
    "\n",
    "# Province Selection\n",
    "province_options=driver.find_elements(By.XPATH,'//*[@id=\"provinceDD\"]/option')[1:]\n",
    "while pro_index < len(province_options):\n",
    "    try:\n",
    "        WebDriverWait(driver,60).until(\n",
    "            EC.presence_of_all_elements_located((By.XPATH,'//*[@id=\"provinceDD\"]/option'))\n",
    "        )\n",
    "        \n",
    "        province_options=driver.find_elements(By.XPATH,'//*[@id=\"provinceDD\"]/option')[1:]\n",
    "        \n",
    "        print(\"\\n\")\n",
    "        print(\"province:\",province_options[pro_index].text)\n",
    "        print(\"\\n\")\n",
    "        \n",
    "        province_options[pro_index].click()\n",
    "        time.sleep(1)\n",
    "        \n",
    "        # District Selection\n",
    "        district_options=driver.find_elements(By.XPATH,'//*[@id=\"districtDD\"]/option')[1:]\n",
    "        while dist_index < len(district_options):\n",
    "            district_options=driver.find_elements(By.XPATH,'//*[@id=\"districtDD\"]/option')[1:]\n",
    "            \n",
    "            print(\"distirct:\",district_options[dist_index].text)\n",
    "            district_options[dist_index].click()\n",
    "            time.sleep(1)\n",
    "            \n",
    "            while True:\n",
    "                    try:\n",
    "                        search_button = driver.find_element(By.XPATH, '//*[@id=\"search-result\"]')\n",
    "                        driver.execute_script(\"arguments[0].scrollIntoView(true);\", search_button)\n",
    "                        WebDriverWait(driver, 10).until(EC.element_to_be_clickable((By.XPATH, '//*[@id=\"search-result\"]')))\n",
    "                        driver.execute_script(\"arguments[0].click();\", search_button)\n",
    "                        break\n",
    "                    except (ElementClickInterceptedException, StaleElementReferenceException):\n",
    "                        continue\n",
    "            \n",
    "            # data scraping\n",
    "            page_source=driver.page_source\n",
    "            soup=BeautifulSoup(page_source)\n",
    "            \n",
    "            country_='Nepal'\n",
    "            province_=soup.find_all('li',class_='breadcrumb-item')[1].text.strip()\n",
    "            district_=soup.find_all('li',class_='breadcrumb-item')[2].text.strip()\n",
    "            \n",
    "            # scraping data of election 2079\n",
    "            data9=soup.find('div',class_='election-2079')\n",
    "            for data in data9.find_all('div',class_='col-md-6 col-xl-4'):\n",
    "                constituency_=data.find('h3',class_='card-title m-0').text.strip()\n",
    "                name_=data.find('div',class_='nominee-name').text.strip()\n",
    "                party_=data.find('div',class_='candidate-party-name').text.strip()\n",
    "                votes_=data.find('div',class_='vote-count font-md p-0').text.strip()\n",
    "                \n",
    "                candidates.append([country_,\"Parliament & Provincial Election 2079\",\"Federal Parliament 2079\",province_,district_,constituency_,name_,party_,votes_])\n",
    "#                 print([country_,\"Parliament & Provincial Election 2079\",\"Federal Parliament 2079\",province_,district_,constituency_,name_,party_,votes_])\n",
    "            \n",
    "            \n",
    "            # scraping data of election 2074\n",
    "            data4=soup.find('div',class_='gy-4 election-2074')\n",
    "            for information in data4.find_all('div',class_='col-md-6 col-xl-4'):\n",
    "                _constituency=information.find('h3',class_='card-title m-0').text.strip()\n",
    "                _name=information.find('div',class_='nominee-name').text.strip()\n",
    "                _party=information.find('div',class_='candidate-party-name').text.strip()\n",
    "                for_votes=information.find('li',class_='election-list__item')\n",
    "                _votes=for_votes.find_all('div',class_='col-auto')[1].text.strip()\n",
    "             \n",
    "                candidates.append([country_,\"Parliament & Provincial Election 2074\",\"Federal Parliament 2074\",province_,district_,_constituency,_name,_party,_votes])\n",
    "#                 print([country_,\"Parliament & Provincial Election 2074\",\"Federal Parliament 2074\",province_,district_,_constituency,_name,_party,_votes])\n",
    "            \n",
    "            \n",
    "            # Re-election data\n",
    "            re_election=soup.find_all('div',class_='col-md-6 col-xl-4')[0]\n",
    "            constituency1=re_election.find('h3',class_='card-title m-0').text.strip()\n",
    "            name1=re_election.find('div',class_='nominee-name').text.strip()\n",
    "            party1=re_election.find('div',class_='candidate-party-name').text.strip()\n",
    "            votes1=re_election.find('div',class_='vote-count font-md p-0').text.strip()\n",
    "                \n",
    "            candidates.append([country_,\"Parliament & Provincial Election 2079\",\"Federal Parliament 2079\",province_,district_,constituency1,name1,party1,votes1])\n",
    "#             print([country_,\"Parliament & Provincial Election 2079\",\"Federal Parliament 2079\",province_,district_,constituency1,name1,party1,votes1])\n",
    "            \n",
    "            \n",
    "            dist_index += 1\n",
    "            \n",
    "        pro_index += 1\n",
    "        dist_index = 0\n",
    "        \n",
    "    except (NoSuchElementException, AttributeError):\n",
    "        skipped_pages.append(driver.current_url)\n",
    "        print(\"This page have some issues and will be retry at last\")\n",
    "        print(driver.current_url)\n",
    "        \n",
    "        if dist_index < len(district_options):\n",
    "            dist_index += 1\n",
    "            \n",
    "        else:\n",
    "            pro_index += 1\n",
    "            dist_index = 0\n",
    "            \n",
    "\n",
    "# Calling the retry function for skipped pages\n",
    "retry_skipped_pages(skipped_pages)\n",
    "\n",
    "driver.quit()"
   ]
  },
  {
   "cell_type": "markdown",
   "id": "3e1fdbb4",
   "metadata": {},
   "source": [
    "### Creating DataFrame from scraped data"
   ]
  },
  {
   "cell_type": "code",
   "execution_count": 4,
   "id": "2ce4d0ea",
   "metadata": {},
   "outputs": [],
   "source": [
    "df=pd.DataFrame(candidates,columns=['country','election name','federal election','province','district','constituency_no','candidate_name','party name','received votes'])"
   ]
  },
  {
   "cell_type": "markdown",
   "id": "29b7e209",
   "metadata": {},
   "source": [
    "printing dataframe"
   ]
  },
  {
   "cell_type": "code",
   "execution_count": 5,
   "id": "6d397daf",
   "metadata": {},
   "outputs": [
    {
     "data": {
      "text/html": [
       "<div>\n",
       "<style scoped>\n",
       "    .dataframe tbody tr th:only-of-type {\n",
       "        vertical-align: middle;\n",
       "    }\n",
       "\n",
       "    .dataframe tbody tr th {\n",
       "        vertical-align: top;\n",
       "    }\n",
       "\n",
       "    .dataframe thead th {\n",
       "        text-align: right;\n",
       "    }\n",
       "</style>\n",
       "<table border=\"1\" class=\"dataframe\">\n",
       "  <thead>\n",
       "    <tr style=\"text-align: right;\">\n",
       "      <th></th>\n",
       "      <th>country</th>\n",
       "      <th>election name</th>\n",
       "      <th>federal election</th>\n",
       "      <th>province</th>\n",
       "      <th>district</th>\n",
       "      <th>constituency_no</th>\n",
       "      <th>candidate_name</th>\n",
       "      <th>party name</th>\n",
       "      <th>received votes</th>\n",
       "    </tr>\n",
       "  </thead>\n",
       "  <tbody>\n",
       "    <tr>\n",
       "      <th>0</th>\n",
       "      <td>Nepal</td>\n",
       "      <td>Parliament &amp; Provincial Election 2079</td>\n",
       "      <td>Federal Parliament 2079</td>\n",
       "      <td>Pradesh 1</td>\n",
       "      <td>Taplejung</td>\n",
       "      <td>Taplejung - Constituency 1</td>\n",
       "      <td>Yogesh Kumar Bhattarai</td>\n",
       "      <td>CPN UML</td>\n",
       "      <td>21,943</td>\n",
       "    </tr>\n",
       "    <tr>\n",
       "      <th>1</th>\n",
       "      <td>Nepal</td>\n",
       "      <td>Parliament &amp; Provincial Election 2074</td>\n",
       "      <td>Federal Parliament 2074</td>\n",
       "      <td>Pradesh 1</td>\n",
       "      <td>Taplejung</td>\n",
       "      <td>Constituency : 1</td>\n",
       "      <td>Yogesh Bhattarai</td>\n",
       "      <td>CPN-UML</td>\n",
       "      <td>29,479</td>\n",
       "    </tr>\n",
       "    <tr>\n",
       "      <th>2</th>\n",
       "      <td>Nepal</td>\n",
       "      <td>Parliament &amp; Provincial Election 2079</td>\n",
       "      <td>Federal Parliament 2079</td>\n",
       "      <td>Pradesh 1</td>\n",
       "      <td>Taplejung</td>\n",
       "      <td>Taplejung - Constituency 1</td>\n",
       "      <td>Yogesh Kumar Bhattarai</td>\n",
       "      <td>CPN UML</td>\n",
       "      <td>21,943</td>\n",
       "    </tr>\n",
       "    <tr>\n",
       "      <th>3</th>\n",
       "      <td>Nepal</td>\n",
       "      <td>Parliament &amp; Provincial Election 2079</td>\n",
       "      <td>Federal Parliament 2079</td>\n",
       "      <td>Pradesh 1</td>\n",
       "      <td>Panchthar</td>\n",
       "      <td>Panchthar - Constituency 1</td>\n",
       "      <td>Basanta Kumar Neuwang</td>\n",
       "      <td>CPN UML</td>\n",
       "      <td>32,135</td>\n",
       "    </tr>\n",
       "    <tr>\n",
       "      <th>4</th>\n",
       "      <td>Nepal</td>\n",
       "      <td>Parliament &amp; Provincial Election 2074</td>\n",
       "      <td>Federal Parliament 2074</td>\n",
       "      <td>Pradesh 1</td>\n",
       "      <td>Panchthar</td>\n",
       "      <td>Constituency : 1</td>\n",
       "      <td>Basanta Kumar Nembang</td>\n",
       "      <td>CPN-UML</td>\n",
       "      <td>38,641</td>\n",
       "    </tr>\n",
       "    <tr>\n",
       "      <th>...</th>\n",
       "      <td>...</td>\n",
       "      <td>...</td>\n",
       "      <td>...</td>\n",
       "      <td>...</td>\n",
       "      <td>...</td>\n",
       "      <td>...</td>\n",
       "      <td>...</td>\n",
       "      <td>...</td>\n",
       "      <td>...</td>\n",
       "    </tr>\n",
       "    <tr>\n",
       "      <th>402</th>\n",
       "      <td>Nepal</td>\n",
       "      <td>Parliament &amp; Provincial Election 2074</td>\n",
       "      <td>Federal Parliament 2074</td>\n",
       "      <td>Sudurpaschim Pradesh</td>\n",
       "      <td>Darchula</td>\n",
       "      <td>Constituency : 1</td>\n",
       "      <td>Ganesh Singh Thagunna</td>\n",
       "      <td>CPN-UML</td>\n",
       "      <td>28,998</td>\n",
       "    </tr>\n",
       "    <tr>\n",
       "      <th>403</th>\n",
       "      <td>Nepal</td>\n",
       "      <td>Parliament &amp; Provincial Election 2079</td>\n",
       "      <td>Federal Parliament 2079</td>\n",
       "      <td>Sudurpaschim Pradesh</td>\n",
       "      <td>Darchula</td>\n",
       "      <td>Darchula - Constituency 1</td>\n",
       "      <td>Dilendra Prasad Badu</td>\n",
       "      <td>Nepali Congress</td>\n",
       "      <td>28,515</td>\n",
       "    </tr>\n",
       "    <tr>\n",
       "      <th>404</th>\n",
       "      <td>Nepal</td>\n",
       "      <td>Parliament &amp; Provincial Election 2079</td>\n",
       "      <td>Federal Parliament 2079</td>\n",
       "      <td>Sudurpaschim Pradesh</td>\n",
       "      <td>Bajura</td>\n",
       "      <td>Bajura - Constituency 1</td>\n",
       "      <td>Bhadri Prasad Pandey</td>\n",
       "      <td>Nepali Congress</td>\n",
       "      <td>31,786</td>\n",
       "    </tr>\n",
       "    <tr>\n",
       "      <th>405</th>\n",
       "      <td>Nepal</td>\n",
       "      <td>Parliament &amp; Provincial Election 2074</td>\n",
       "      <td>Federal Parliament 2074</td>\n",
       "      <td>Sudurpaschim Pradesh</td>\n",
       "      <td>Bajura</td>\n",
       "      <td>Constituency : 1</td>\n",
       "      <td>Lal Bahadur Thapa</td>\n",
       "      <td>CPN-UML</td>\n",
       "      <td>28,065</td>\n",
       "    </tr>\n",
       "    <tr>\n",
       "      <th>406</th>\n",
       "      <td>Nepal</td>\n",
       "      <td>Parliament &amp; Provincial Election 2079</td>\n",
       "      <td>Federal Parliament 2079</td>\n",
       "      <td>Sudurpaschim Pradesh</td>\n",
       "      <td>Bajura</td>\n",
       "      <td>Bajura - Constituency 1</td>\n",
       "      <td>Bhadri Prasad Pandey</td>\n",
       "      <td>Nepali Congress</td>\n",
       "      <td>31,786</td>\n",
       "    </tr>\n",
       "  </tbody>\n",
       "</table>\n",
       "<p>407 rows × 9 columns</p>\n",
       "</div>"
      ],
      "text/plain": [
       "    country                          election name         federal election  \\\n",
       "0     Nepal  Parliament & Provincial Election 2079  Federal Parliament 2079   \n",
       "1     Nepal  Parliament & Provincial Election 2074  Federal Parliament 2074   \n",
       "2     Nepal  Parliament & Provincial Election 2079  Federal Parliament 2079   \n",
       "3     Nepal  Parliament & Provincial Election 2079  Federal Parliament 2079   \n",
       "4     Nepal  Parliament & Provincial Election 2074  Federal Parliament 2074   \n",
       "..      ...                                    ...                      ...   \n",
       "402   Nepal  Parliament & Provincial Election 2074  Federal Parliament 2074   \n",
       "403   Nepal  Parliament & Provincial Election 2079  Federal Parliament 2079   \n",
       "404   Nepal  Parliament & Provincial Election 2079  Federal Parliament 2079   \n",
       "405   Nepal  Parliament & Provincial Election 2074  Federal Parliament 2074   \n",
       "406   Nepal  Parliament & Provincial Election 2079  Federal Parliament 2079   \n",
       "\n",
       "                 province   district             constituency_no  \\\n",
       "0               Pradesh 1  Taplejung  Taplejung - Constituency 1   \n",
       "1               Pradesh 1  Taplejung            Constituency : 1   \n",
       "2               Pradesh 1  Taplejung  Taplejung - Constituency 1   \n",
       "3               Pradesh 1  Panchthar  Panchthar - Constituency 1   \n",
       "4               Pradesh 1  Panchthar            Constituency : 1   \n",
       "..                    ...        ...                         ...   \n",
       "402  Sudurpaschim Pradesh   Darchula            Constituency : 1   \n",
       "403  Sudurpaschim Pradesh   Darchula   Darchula - Constituency 1   \n",
       "404  Sudurpaschim Pradesh     Bajura     Bajura - Constituency 1   \n",
       "405  Sudurpaschim Pradesh     Bajura            Constituency : 1   \n",
       "406  Sudurpaschim Pradesh     Bajura     Bajura - Constituency 1   \n",
       "\n",
       "             candidate_name       party name received votes  \n",
       "0    Yogesh Kumar Bhattarai          CPN UML         21,943  \n",
       "1          Yogesh Bhattarai          CPN-UML         29,479  \n",
       "2    Yogesh Kumar Bhattarai          CPN UML         21,943  \n",
       "3     Basanta Kumar Neuwang          CPN UML         32,135  \n",
       "4     Basanta Kumar Nembang          CPN-UML         38,641  \n",
       "..                      ...              ...            ...  \n",
       "402   Ganesh Singh Thagunna          CPN-UML         28,998  \n",
       "403    Dilendra Prasad Badu  Nepali Congress         28,515  \n",
       "404    Bhadri Prasad Pandey  Nepali Congress         31,786  \n",
       "405       Lal Bahadur Thapa          CPN-UML         28,065  \n",
       "406    Bhadri Prasad Pandey  Nepali Congress         31,786  \n",
       "\n",
       "[407 rows x 9 columns]"
      ]
     },
     "execution_count": 5,
     "metadata": {},
     "output_type": "execute_result"
    }
   ],
   "source": [
    "df"
   ]
  },
  {
   "cell_type": "markdown",
   "id": "33dace6c",
   "metadata": {},
   "source": [
    "### Droping duplicate rows"
   ]
  },
  {
   "cell_type": "code",
   "execution_count": 6,
   "id": "744c79d9",
   "metadata": {},
   "outputs": [],
   "source": [
    "df.drop_duplicates(inplace=True)"
   ]
  },
  {
   "cell_type": "markdown",
   "id": "9bb38ff2",
   "metadata": {},
   "source": [
    "After droping the duplicates rows, shape of our dataframe is like"
   ]
  },
  {
   "cell_type": "code",
   "execution_count": 7,
   "id": "efdd82b3",
   "metadata": {},
   "outputs": [
    {
     "data": {
      "text/plain": [
       "334"
      ]
     },
     "execution_count": 7,
     "metadata": {},
     "output_type": "execute_result"
    }
   ],
   "source": [
    "df.shape[0]"
   ]
  },
  {
   "cell_type": "markdown",
   "id": "399c3c96",
   "metadata": {},
   "source": [
    "# Total number of constituencies in federal = 165"
   ]
  },
  {
   "cell_type": "markdown",
   "id": "86bbcf80",
   "metadata": {},
   "source": [
    "We can cleary see that 165 constituencies in 'Parliament and Provincial Election 2074'"
   ]
  },
  {
   "cell_type": "code",
   "execution_count": 9,
   "id": "c5780c3b",
   "metadata": {},
   "outputs": [
    {
     "data": {
      "text/plain": [
       "country             165\n",
       "election name       165\n",
       "federal election    165\n",
       "province            165\n",
       "district            165\n",
       "constituency_no     165\n",
       "candidate_name      165\n",
       "party name          165\n",
       "received votes      165\n",
       "dtype: int64"
      ]
     },
     "execution_count": 9,
     "metadata": {},
     "output_type": "execute_result"
    }
   ],
   "source": [
    "df[df['election name']==\"Parliament & Provincial Election 2074\"].count()"
   ]
  },
  {
   "cell_type": "markdown",
   "id": "c65ca824",
   "metadata": {},
   "source": [
    "Contituencies must be 165 in total \n",
    "but in 'Paliament and Provincial Election 2079' there is 169, it is because;\n",
    "{Province1, Illam district,\n",
    " Madesh pradesh, Bara district,\n",
    " Bagmati pradesh, Chitwan district,\n",
    " Gandaki pradesh, Tanahun district}\n",
    "do re-election in 2081 BS\n",
    "\n",
    "So, the extra 4 rows added there"
   ]
  },
  {
   "cell_type": "code",
   "execution_count": 8,
   "id": "661fc86c",
   "metadata": {},
   "outputs": [
    {
     "data": {
      "text/plain": [
       "country             169\n",
       "election name       169\n",
       "federal election    169\n",
       "province            169\n",
       "district            169\n",
       "constituency_no     169\n",
       "candidate_name      169\n",
       "party name          169\n",
       "received votes      169\n",
       "dtype: int64"
      ]
     },
     "execution_count": 8,
     "metadata": {},
     "output_type": "execute_result"
    }
   ],
   "source": [
    "df[df['election name']==\"Parliament & Provincial Election 2079\"].count()"
   ]
  },
  {
   "cell_type": "markdown",
   "id": "85675455",
   "metadata": {},
   "source": [
    "We can see the re-election data of 'Parliament and Procincial Election 2079' in 2081 BS"
   ]
  },
  {
   "cell_type": "code",
   "execution_count": 10,
   "id": "a903b224",
   "metadata": {},
   "outputs": [
    {
     "data": {
      "text/html": [
       "<div>\n",
       "<style scoped>\n",
       "    .dataframe tbody tr th:only-of-type {\n",
       "        vertical-align: middle;\n",
       "    }\n",
       "\n",
       "    .dataframe tbody tr th {\n",
       "        vertical-align: top;\n",
       "    }\n",
       "\n",
       "    .dataframe thead th {\n",
       "        text-align: right;\n",
       "    }\n",
       "</style>\n",
       "<table border=\"1\" class=\"dataframe\">\n",
       "  <thead>\n",
       "    <tr style=\"text-align: right;\">\n",
       "      <th></th>\n",
       "      <th>country</th>\n",
       "      <th>election name</th>\n",
       "      <th>federal election</th>\n",
       "      <th>province</th>\n",
       "      <th>district</th>\n",
       "      <th>constituency_no</th>\n",
       "      <th>candidate_name</th>\n",
       "      <th>party name</th>\n",
       "      <th>received votes</th>\n",
       "    </tr>\n",
       "  </thead>\n",
       "  <tbody>\n",
       "    <tr>\n",
       "      <th>10</th>\n",
       "      <td>Nepal</td>\n",
       "      <td>Parliament &amp; Provincial Election 2079</td>\n",
       "      <td>Federal Parliament 2079</td>\n",
       "      <td>Pradesh 1</td>\n",
       "      <td>Illam</td>\n",
       "      <td>Illam - 2, By - Election 2081</td>\n",
       "      <td>Suhang Nembang</td>\n",
       "      <td>CPN UML</td>\n",
       "      <td>27,772</td>\n",
       "    </tr>\n",
       "    <tr>\n",
       "      <th>132</th>\n",
       "      <td>Nepal</td>\n",
       "      <td>Parliament &amp; Provincial Election 2079</td>\n",
       "      <td>Federal Parliament 2079</td>\n",
       "      <td>Madhesh Pradesh</td>\n",
       "      <td>Bara</td>\n",
       "      <td>Bara - 2, By - Election 2081</td>\n",
       "      <td>Upendra Yadav</td>\n",
       "      <td>Janata Samajwadi Party</td>\n",
       "      <td>28,415</td>\n",
       "    </tr>\n",
       "    <tr>\n",
       "      <th>220</th>\n",
       "      <td>Nepal</td>\n",
       "      <td>Parliament &amp; Provincial Election 2079</td>\n",
       "      <td>Federal Parliament 2079</td>\n",
       "      <td>Bagmati Pradesh</td>\n",
       "      <td>Chitwan</td>\n",
       "      <td>Chitwan - 2, By - Election 2081</td>\n",
       "      <td>Rabi Lamichhane</td>\n",
       "      <td>Rastriya Swatantra Party</td>\n",
       "      <td>54,176</td>\n",
       "    </tr>\n",
       "    <tr>\n",
       "      <th>233</th>\n",
       "      <td>Nepal</td>\n",
       "      <td>Parliament &amp; Provincial Election 2079</td>\n",
       "      <td>Federal Parliament 2079</td>\n",
       "      <td>Gandaki Pradesh</td>\n",
       "      <td>Tanahun</td>\n",
       "      <td>Tanahun - 1, By - Election 2081</td>\n",
       "      <td>Swarnim Wagle</td>\n",
       "      <td>Rastriya Swatantra Party</td>\n",
       "      <td>34,919</td>\n",
       "    </tr>\n",
       "  </tbody>\n",
       "</table>\n",
       "</div>"
      ],
      "text/plain": [
       "    country                          election name         federal election  \\\n",
       "10    Nepal  Parliament & Provincial Election 2079  Federal Parliament 2079   \n",
       "132   Nepal  Parliament & Provincial Election 2079  Federal Parliament 2079   \n",
       "220   Nepal  Parliament & Provincial Election 2079  Federal Parliament 2079   \n",
       "233   Nepal  Parliament & Provincial Election 2079  Federal Parliament 2079   \n",
       "\n",
       "            province district                  constituency_no  \\\n",
       "10         Pradesh 1    Illam    Illam - 2, By - Election 2081   \n",
       "132  Madhesh Pradesh     Bara     Bara - 2, By - Election 2081   \n",
       "220  Bagmati Pradesh  Chitwan  Chitwan - 2, By - Election 2081   \n",
       "233  Gandaki Pradesh  Tanahun  Tanahun - 1, By - Election 2081   \n",
       "\n",
       "      candidate_name                party name received votes  \n",
       "10    Suhang Nembang                   CPN UML         27,772  \n",
       "132    Upendra Yadav    Janata Samajwadi Party         28,415  \n",
       "220  Rabi Lamichhane  Rastriya Swatantra Party         54,176  \n",
       "233    Swarnim Wagle  Rastriya Swatantra Party         34,919  "
      ]
     },
     "execution_count": 10,
     "metadata": {},
     "output_type": "execute_result"
    }
   ],
   "source": [
    "df[df['constituency_no'].str.contains(r'\\bBy - Election 2081\\b', case=False, na=False)]"
   ]
  },
  {
   "cell_type": "markdown",
   "id": "cf37d0a8",
   "metadata": {},
   "source": [
    "The data contain some nepali letter data"
   ]
  },
  {
   "cell_type": "code",
   "execution_count": 11,
   "id": "d448e1ca",
   "metadata": {},
   "outputs": [
    {
     "data": {
      "text/html": [
       "<div>\n",
       "<style scoped>\n",
       "    .dataframe tbody tr th:only-of-type {\n",
       "        vertical-align: middle;\n",
       "    }\n",
       "\n",
       "    .dataframe tbody tr th {\n",
       "        vertical-align: top;\n",
       "    }\n",
       "\n",
       "    .dataframe thead th {\n",
       "        text-align: right;\n",
       "    }\n",
       "</style>\n",
       "<table border=\"1\" class=\"dataframe\">\n",
       "  <thead>\n",
       "    <tr style=\"text-align: right;\">\n",
       "      <th></th>\n",
       "      <th>country</th>\n",
       "      <th>election name</th>\n",
       "      <th>federal election</th>\n",
       "      <th>province</th>\n",
       "      <th>district</th>\n",
       "      <th>constituency_no</th>\n",
       "      <th>candidate_name</th>\n",
       "      <th>party name</th>\n",
       "      <th>received votes</th>\n",
       "    </tr>\n",
       "  </thead>\n",
       "  <tbody>\n",
       "    <tr>\n",
       "      <th>148</th>\n",
       "      <td>Nepal</td>\n",
       "      <td>Parliament &amp; Provincial Election 2074</td>\n",
       "      <td>Federal Parliament 2074</td>\n",
       "      <td>Bagmati Pradesh</td>\n",
       "      <td>Ramechhap</td>\n",
       "      <td>Constituency : 1</td>\n",
       "      <td>श्यामकुमार श्रेष्ठ</td>\n",
       "      <td>Maoist Centre</td>\n",
       "      <td>42,116</td>\n",
       "    </tr>\n",
       "  </tbody>\n",
       "</table>\n",
       "</div>"
      ],
      "text/plain": [
       "    country                          election name         federal election  \\\n",
       "148   Nepal  Parliament & Provincial Election 2074  Federal Parliament 2074   \n",
       "\n",
       "            province   district   constituency_no      candidate_name  \\\n",
       "148  Bagmati Pradesh  Ramechhap  Constituency : 1  श्यामकुमार श्रेष्ठ   \n",
       "\n",
       "        party name received votes  \n",
       "148  Maoist Centre         42,116  "
      ]
     },
     "execution_count": 11,
     "metadata": {},
     "output_type": "execute_result"
    }
   ],
   "source": [
    "# Function to check if any cell in the row contains a Nepali letter\n",
    "def contains_nepali(row):\n",
    "    return row.astype(str).str.contains(r'[\\u0900-\\u097F]').any()\n",
    "\n",
    "# Apply the function to each row and filter\n",
    "df[df.apply(contains_nepali, axis=1)]"
   ]
  },
  {
   "cell_type": "markdown",
   "id": "1f22882f",
   "metadata": {},
   "source": [
    "### Replacing the nepali letters to english letters"
   ]
  },
  {
   "cell_type": "code",
   "execution_count": 16,
   "id": "f83181a2",
   "metadata": {},
   "outputs": [],
   "source": [
    "df['candidate_name']=df['candidate_name'].replace('श्यामकुमार श्रेष्ठ','Shyam Kumar Shrestha')"
   ]
  },
  {
   "cell_type": "markdown",
   "id": "3bc5e92e",
   "metadata": {},
   "source": [
    "Just checking is there any nepali letter containing data is present or not"
   ]
  },
  {
   "cell_type": "code",
   "execution_count": 17,
   "id": "bc8e067b",
   "metadata": {},
   "outputs": [
    {
     "data": {
      "text/html": [
       "<div>\n",
       "<style scoped>\n",
       "    .dataframe tbody tr th:only-of-type {\n",
       "        vertical-align: middle;\n",
       "    }\n",
       "\n",
       "    .dataframe tbody tr th {\n",
       "        vertical-align: top;\n",
       "    }\n",
       "\n",
       "    .dataframe thead th {\n",
       "        text-align: right;\n",
       "    }\n",
       "</style>\n",
       "<table border=\"1\" class=\"dataframe\">\n",
       "  <thead>\n",
       "    <tr style=\"text-align: right;\">\n",
       "      <th></th>\n",
       "      <th>country</th>\n",
       "      <th>election name</th>\n",
       "      <th>federal election</th>\n",
       "      <th>province</th>\n",
       "      <th>district</th>\n",
       "      <th>constituency_no</th>\n",
       "      <th>candidate_name</th>\n",
       "      <th>party name</th>\n",
       "      <th>received votes</th>\n",
       "    </tr>\n",
       "  </thead>\n",
       "  <tbody>\n",
       "  </tbody>\n",
       "</table>\n",
       "</div>"
      ],
      "text/plain": [
       "Empty DataFrame\n",
       "Columns: [country, election name, federal election, province, district, constituency_no, candidate_name, party name, received votes]\n",
       "Index: []"
      ]
     },
     "execution_count": 17,
     "metadata": {},
     "output_type": "execute_result"
    }
   ],
   "source": [
    "# Function to check if any cell in the row contains a Nepali letter\n",
    "def contains_nepali(row):\n",
    "    return row.astype(str).str.contains(r'[\\u0900-\\u097F]').any()\n",
    "\n",
    "# Apply the function to each row and filter\n",
    "df[df.apply(contains_nepali, axis=1)]"
   ]
  },
  {
   "cell_type": "markdown",
   "id": "75d93fb6",
   "metadata": {},
   "source": [
    "### Storing dataframe into csv file "
   ]
  },
  {
   "cell_type": "code",
   "execution_count": 18,
   "id": "309cc9d6",
   "metadata": {},
   "outputs": [],
   "source": [
    "df.to_csv('PEP individual in Parliament Election 2079, Nepal.csv')"
   ]
  },
  {
   "cell_type": "markdown",
   "id": "437ddbbd",
   "metadata": {},
   "source": [
    "Basics information of data"
   ]
  },
  {
   "cell_type": "code",
   "execution_count": 19,
   "id": "a5f3b767",
   "metadata": {},
   "outputs": [
    {
     "name": "stdout",
     "output_type": "stream",
     "text": [
      "<class 'pandas.core.frame.DataFrame'>\n",
      "Index: 334 entries, 0 to 405\n",
      "Data columns (total 9 columns):\n",
      " #   Column            Non-Null Count  Dtype \n",
      "---  ------            --------------  ----- \n",
      " 0   country           334 non-null    object\n",
      " 1   election name     334 non-null    object\n",
      " 2   federal election  334 non-null    object\n",
      " 3   province          334 non-null    object\n",
      " 4   district          334 non-null    object\n",
      " 5   constituency_no   334 non-null    object\n",
      " 6   candidate_name    334 non-null    object\n",
      " 7   party name        334 non-null    object\n",
      " 8   received votes    334 non-null    object\n",
      "dtypes: object(9)\n",
      "memory usage: 26.1+ KB\n"
     ]
    }
   ],
   "source": [
    "df.info()"
   ]
  },
  {
   "cell_type": "markdown",
   "id": "dd975356",
   "metadata": {},
   "source": [
    "### Converting received votes column data into ineteger"
   ]
  },
  {
   "cell_type": "code",
   "execution_count": 20,
   "id": "166478f6",
   "metadata": {},
   "outputs": [],
   "source": [
    "# Convert  columns datatype to integers\n",
    "columns_to_convert = [\n",
    "    'received votes'\n",
    "]\n",
    "\n",
    "for col in columns_to_convert:\n",
    "    # Replace non-numeric values with NaN\n",
    "    df[col] = pd.to_numeric(df[col].astype(str).str.replace(',', ''), errors='coerce')\n",
    "    # Replace NaN with 0\n",
    "    df[col] = df[col].fillna(0).astype(int)\n"
   ]
  },
  {
   "cell_type": "code",
   "execution_count": 21,
   "id": "49d289c7",
   "metadata": {},
   "outputs": [
    {
     "name": "stdout",
     "output_type": "stream",
     "text": [
      "<class 'pandas.core.frame.DataFrame'>\n",
      "Index: 334 entries, 0 to 405\n",
      "Data columns (total 9 columns):\n",
      " #   Column            Non-Null Count  Dtype \n",
      "---  ------            --------------  ----- \n",
      " 0   country           334 non-null    object\n",
      " 1   election name     334 non-null    object\n",
      " 2   federal election  334 non-null    object\n",
      " 3   province          334 non-null    object\n",
      " 4   district          334 non-null    object\n",
      " 5   constituency_no   334 non-null    object\n",
      " 6   candidate_name    334 non-null    object\n",
      " 7   party name        334 non-null    object\n",
      " 8   received votes    334 non-null    int32 \n",
      "dtypes: int32(1), object(8)\n",
      "memory usage: 24.8+ KB\n"
     ]
    }
   ],
   "source": [
    "df.info()"
   ]
  },
  {
   "cell_type": "markdown",
   "id": "745d47e5",
   "metadata": {},
   "source": [
    "# Storing dataframe into database "
   ]
  },
  {
   "cell_type": "markdown",
   "id": "41034587",
   "metadata": {},
   "source": [
    "### Importing  necessary libraries"
   ]
  },
  {
   "cell_type": "code",
   "execution_count": 22,
   "id": "8e1b640d",
   "metadata": {},
   "outputs": [],
   "source": [
    "import pandas as pd\n",
    "import MySQLdb"
   ]
  },
  {
   "cell_type": "markdown",
   "id": "3b08fdba",
   "metadata": {},
   "source": [
    "### Creating connection to database"
   ]
  },
  {
   "cell_type": "code",
   "execution_count": 30,
   "id": "802d7e29",
   "metadata": {},
   "outputs": [],
   "source": [
    "conn=MySQLdb.connect(\n",
    "    host='localhost',\n",
    "    user='root',\n",
    "    password='root',\n",
    "    database='task'\n",
    ")\n",
    "cursor=conn.cursor()"
   ]
  },
  {
   "cell_type": "markdown",
   "id": "50bca807",
   "metadata": {},
   "source": [
    "### Storing data into database"
   ]
  },
  {
   "cell_type": "code",
   "execution_count": 31,
   "id": "d0edcd34",
   "metadata": {},
   "outputs": [],
   "source": [
    "# Iterate over DataFrame rows and execute insert query\n",
    "for i, row in df.iterrows():\n",
    "    cursor.execute(\"\"\"\n",
    "        INSERT INTO task3 (\n",
    "            country, \n",
    "            election_name, \n",
    "            federal_election, \n",
    "            province, \n",
    "            district, \n",
    "            constituency_no, \n",
    "            candidate_name, \n",
    "            party_name, \n",
    "            received_votes\n",
    "        ) VALUES (%s, %s, %s, %s, %s, %s, %s, %s, %s)\n",
    "    \"\"\", (\n",
    "        row['country'],\n",
    "        row['election name'],\n",
    "        row['federal election'],\n",
    "        row['province'],\n",
    "        row['district'],\n",
    "        row['constituency_no'],\n",
    "        row['candidate_name'],\n",
    "        row['party name'],\n",
    "        row['received votes']\n",
    "    ))\n",
    "\n",
    "# Committing the code\n",
    "conn.commit()\n",
    "\n",
    "# Close the cursor and connection\n",
    "cursor.close()\n",
    "conn.close()"
   ]
  },
  {
   "cell_type": "code",
   "execution_count": null,
   "id": "4ee8835c",
   "metadata": {},
   "outputs": [],
   "source": []
  }
 ],
 "metadata": {
  "kernelspec": {
   "display_name": "Python 3 (ipykernel)",
   "language": "python",
   "name": "python3"
  },
  "language_info": {
   "codemirror_mode": {
    "name": "ipython",
    "version": 3
   },
   "file_extension": ".py",
   "mimetype": "text/x-python",
   "name": "python",
   "nbconvert_exporter": "python",
   "pygments_lexer": "ipython3",
   "version": "3.11.3"
  }
 },
 "nbformat": 4,
 "nbformat_minor": 5
}
